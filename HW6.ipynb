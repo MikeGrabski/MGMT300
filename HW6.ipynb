{
 "cells": [
  {
   "cell_type": "code",
   "execution_count": 1,
   "metadata": {},
   "outputs": [
    {
     "name": "stdout",
     "output_type": "stream",
     "text": [
      "[1, 3, 5, 7, 9, 11, 13, 15, 17, 19, 21, 23, 25, 27, 29, 31, 33, 35, 37, 39, 41, 43, 45, 47, 49, 51, 53, 55, 57, 59, 61, 63, 65, 67, 69, 71, 73, 75, 77, 79, 81, 83, 85, 87, 89, 91, 93, 95, 97, 99]\n"
     ]
    }
   ],
   "source": [
    "odd_int= [i for i in range(1,100,2)]\n",
    "print(odd_int)"
   ]
  },
  {
   "cell_type": "code",
   "execution_count": 2,
   "metadata": {},
   "outputs": [
    {
     "name": "stdout",
     "output_type": "stream",
     "text": [
      "['Dilijan', 'Gyumri']\n"
     ]
    }
   ],
   "source": [
    "all_cities = [\"Dilijan, Armenia\", \"Quebec, Canada\",\"York, England\",\"Gyumri, Armenia\",\"Bath, England\",\"Calgary,Canada\"]\n",
    "arm_cities = [city.split(',')[0] for city in all_cities if \"Armenia\" in city]\n",
    "print(arm_cities)"
   ]
  },
  {
   "cell_type": "code",
   "execution_count": 3,
   "metadata": {},
   "outputs": [
    {
     "name": "stdout",
     "output_type": "stream",
     "text": [
      "['Joshua', 'Janathan', 'Jeremy']\n"
     ]
    }
   ],
   "source": [
    "j_names = [ [\"Joshua\"], [\"Janathan\"], [\"Jeremy\"] ]\n",
    "j_names_ext = [name[0] for name in j_names]\n",
    "print(j_names_ext)"
   ]
  },
  {
   "cell_type": "code",
   "execution_count": 4,
   "metadata": {},
   "outputs": [
    {
     "data": {
      "text/plain": [
       "{2: 4, 3: 9, 4: 16, 5: 25}"
      ]
     },
     "execution_count": 4,
     "metadata": {},
     "output_type": "execute_result"
    }
   ],
   "source": [
    "def dict_generator(x,y):\n",
    "    return {num:num**2 for num in range(x,y+1)}\n",
    "dict_generator(2,5)"
   ]
  },
  {
   "cell_type": "code",
   "execution_count": 8,
   "metadata": {},
   "outputs": [
    {
     "data": {
      "text/plain": [
       "16"
      ]
     },
     "execution_count": 8,
     "metadata": {},
     "output_type": "execute_result"
    }
   ],
   "source": [
    "def median_calculator(dictionary):\n",
    "    val_list = list(dictionary.values())\n",
    "    val_list.sort()\n",
    "    length = len(val_list)\n",
    "    if(len(val_list)%2==1): # if odd take the one in the middle\n",
    "        return val_list[length//2]\n",
    "    else:                   # if even take the average of the two in the middle\n",
    "        return (val_list[length//2 -1] + val_list[length//2])/2\n",
    "    \n",
    "median_calculator(dict_generator(2,6))\n",
    "    "
   ]
  },
  {
   "cell_type": "code",
   "execution_count": null,
   "metadata": {},
   "outputs": [],
   "source": []
  },
  {
   "cell_type": "code",
   "execution_count": null,
   "metadata": {},
   "outputs": [],
   "source": []
  }
 ],
 "metadata": {
  "kernelspec": {
   "display_name": "Python 3",
   "language": "python",
   "name": "python3"
  },
  "language_info": {
   "codemirror_mode": {
    "name": "ipython",
    "version": 3
   },
   "file_extension": ".py",
   "mimetype": "text/x-python",
   "name": "python",
   "nbconvert_exporter": "python",
   "pygments_lexer": "ipython3",
   "version": "3.6.5"
  }
 },
 "nbformat": 4,
 "nbformat_minor": 2
}
